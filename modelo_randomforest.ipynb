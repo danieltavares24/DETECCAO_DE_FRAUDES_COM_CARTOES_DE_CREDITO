{
  "nbformat": 4,
  "nbformat_minor": 0,
  "metadata": {
    "colab": {
      "provenance": [],
      "authorship_tag": "ABX9TyOAlSonTIHEUXn4boA0avBF",
      "include_colab_link": true
    },
    "kernelspec": {
      "name": "python3",
      "display_name": "Python 3"
    },
    "language_info": {
      "name": "python"
    }
  },
  "cells": [
    {
      "cell_type": "markdown",
      "metadata": {
        "id": "view-in-github",
        "colab_type": "text"
      },
      "source": [
        "<a href=\"https://colab.research.google.com/github/danieltavares24/DETECCAO_DE_FRAUDES_COM_CARTOES_DE_CREDITO/blob/main/modelo_randomforest.ipynb\" target=\"_parent\"><img src=\"https://colab.research.google.com/assets/colab-badge.svg\" alt=\"Open In Colab\"/></a>"
      ]
    },
    {
      "cell_type": "markdown",
      "source": [
        "# **Desafio Técnico – Hackathon Forecast Big Data 2025**"
      ],
      "metadata": {
        "id": "Stdq4VEi44mD"
      }
    },
    {
      "cell_type": "markdown",
      "source": [
        "# **Bibliotecas**"
      ],
      "metadata": {
        "id": "IGnqghaf4rMG"
      }
    },
    {
      "cell_type": "code",
      "source": [
        "# Bibliotecas necessárias\n",
        "!pip install pandas numpy scikit-learn xgboost lightgbm seaborn matplotlib\n"
      ],
      "metadata": {
        "colab": {
          "base_uri": "https://localhost:8080/"
        },
        "collapsed": true,
        "id": "kjFjl--ZyXwo",
        "outputId": "40d3dcef-02a0-4778-9083-d8e66ebb20fa"
      },
      "execution_count": 3,
      "outputs": [
        {
          "output_type": "stream",
          "name": "stdout",
          "text": [
            "Requirement already satisfied: pandas in /usr/local/lib/python3.12/dist-packages (2.2.2)\n",
            "Requirement already satisfied: numpy in /usr/local/lib/python3.12/dist-packages (2.0.2)\n",
            "Requirement already satisfied: scikit-learn in /usr/local/lib/python3.12/dist-packages (1.6.1)\n",
            "Requirement already satisfied: xgboost in /usr/local/lib/python3.12/dist-packages (3.0.4)\n",
            "Requirement already satisfied: lightgbm in /usr/local/lib/python3.12/dist-packages (4.6.0)\n",
            "Requirement already satisfied: seaborn in /usr/local/lib/python3.12/dist-packages (0.13.2)\n",
            "Requirement already satisfied: matplotlib in /usr/local/lib/python3.12/dist-packages (3.10.0)\n",
            "Requirement already satisfied: python-dateutil>=2.8.2 in /usr/local/lib/python3.12/dist-packages (from pandas) (2.9.0.post0)\n",
            "Requirement already satisfied: pytz>=2020.1 in /usr/local/lib/python3.12/dist-packages (from pandas) (2025.2)\n",
            "Requirement already satisfied: tzdata>=2022.7 in /usr/local/lib/python3.12/dist-packages (from pandas) (2025.2)\n",
            "Requirement already satisfied: scipy>=1.6.0 in /usr/local/lib/python3.12/dist-packages (from scikit-learn) (1.16.1)\n",
            "Requirement already satisfied: joblib>=1.2.0 in /usr/local/lib/python3.12/dist-packages (from scikit-learn) (1.5.2)\n",
            "Requirement already satisfied: threadpoolctl>=3.1.0 in /usr/local/lib/python3.12/dist-packages (from scikit-learn) (3.6.0)\n",
            "Requirement already satisfied: nvidia-nccl-cu12 in /usr/local/lib/python3.12/dist-packages (from xgboost) (2.27.3)\n",
            "Requirement already satisfied: contourpy>=1.0.1 in /usr/local/lib/python3.12/dist-packages (from matplotlib) (1.3.3)\n",
            "Requirement already satisfied: cycler>=0.10 in /usr/local/lib/python3.12/dist-packages (from matplotlib) (0.12.1)\n",
            "Requirement already satisfied: fonttools>=4.22.0 in /usr/local/lib/python3.12/dist-packages (from matplotlib) (4.59.2)\n",
            "Requirement already satisfied: kiwisolver>=1.3.1 in /usr/local/lib/python3.12/dist-packages (from matplotlib) (1.4.9)\n",
            "Requirement already satisfied: packaging>=20.0 in /usr/local/lib/python3.12/dist-packages (from matplotlib) (25.0)\n",
            "Requirement already satisfied: pillow>=8 in /usr/local/lib/python3.12/dist-packages (from matplotlib) (11.3.0)\n",
            "Requirement already satisfied: pyparsing>=2.3.1 in /usr/local/lib/python3.12/dist-packages (from matplotlib) (3.2.3)\n",
            "Requirement already satisfied: six>=1.5 in /usr/local/lib/python3.12/dist-packages (from python-dateutil>=2.8.2->pandas) (1.17.0)\n"
          ]
        }
      ]
    },
    {
      "cell_type": "markdown",
      "source": [
        "# **Arquivos**"
      ],
      "metadata": {
        "id": "2Hp25PI05ig1"
      }
    },
    {
      "cell_type": "code",
      "source": [
        "import pandas as pd\n",
        "\n",
        "# Arquivos Parquet\n",
        "transacoes = pd.read_parquet('transacoes_2022.parquet')\n",
        "produtos = pd.read_parquet('cadastro_produtos.parquet')\n",
        "pdvs = pd.read_parquet('cadastro_pdvs.parquet')"
      ],
      "metadata": {
        "id": "vgiOJTG0ybhe"
      },
      "execution_count": 4,
      "outputs": []
    },
    {
      "cell_type": "markdown",
      "source": [
        "# **Insights**"
      ],
      "metadata": {
        "id": "qD31Q8Lb6ABG"
      }
    },
    {
      "cell_type": "code",
      "source": [
        "# Data para datetime\n",
        "transacoes['transaction_date'] = pd.to_datetime(transacoes['transaction_date'])\n",
        "\n",
        "# Coluna de semana\n",
        "transacoes['Semana'] = transacoes['transaction_date'].dt.isocalendar().week\n",
        "\n",
        "# Vendas por semana, pdv e produto\n",
        "vendas_semanais = transacoes.groupby(['Semana', 'internal_store_id', 'internal_product_id'])['quantity'].sum().reset_index()"
      ],
      "metadata": {
        "id": "3xF98VdzzHQ1"
      },
      "execution_count": 5,
      "outputs": []
    },
    {
      "cell_type": "markdown",
      "source": [
        "# **Esquema**"
      ],
      "metadata": {
        "id": "Hdx8OrHy60aC"
      }
    },
    {
      "cell_type": "code",
      "source": [
        "print(\"Colunas de vendas_semanais:\", vendas_semanais.columns.tolist())\n",
        "print(\"Colunas de produtos:\", produtos.columns.tolist())\n",
        "print(\"Colunas de pdvs:\", pdvs.columns.tolist())"
      ],
      "metadata": {
        "colab": {
          "base_uri": "https://localhost:8080/"
        },
        "collapsed": true,
        "id": "UOf-nH3t1TK4",
        "outputId": "9c1590e1-f4e6-4c50-aba7-c6bc017f222d"
      },
      "execution_count": 6,
      "outputs": [
        {
          "output_type": "stream",
          "name": "stdout",
          "text": [
            "Colunas de vendas_semanais: ['Semana', 'internal_store_id', 'internal_product_id', 'quantity']\n",
            "Colunas de produtos: ['produto', 'categoria', 'descricao', 'tipos', 'label', 'subcategoria', 'marca', 'fabricante']\n",
            "Colunas de pdvs: ['pdv', 'premise', 'categoria_pdv', 'zipcode']\n"
          ]
        }
      ]
    },
    {
      "cell_type": "markdown",
      "source": [
        "# **Padronização**"
      ],
      "metadata": {
        "id": "Kim5pYGa7FOg"
      }
    },
    {
      "cell_type": "code",
      "source": [
        "# Colunas em vendas_semanais para bater com os cadastros\n",
        "vendas_semanais.rename(columns={\n",
        "    'internal_store_id': 'pdv',\n",
        "    'internal_product_id': 'produto'\n",
        "}, inplace=True)"
      ],
      "metadata": {
        "id": "bJ6dtb8u1zZ6"
      },
      "execution_count": 7,
      "outputs": []
    },
    {
      "cell_type": "markdown",
      "source": [
        "# **Enriquecimento**"
      ],
      "metadata": {
        "id": "jLhFH4iq7NP4"
      }
    },
    {
      "cell_type": "code",
      "source": [
        "# Cadastro de produtos\n",
        "vendas_semanais = vendas_semanais.merge(produtos, on='produto', how='left')\n",
        "\n",
        "# Cadastro de PDVs\n",
        "vendas_semanais = vendas_semanais.merge(pdvs, on='pdv', how='left')"
      ],
      "metadata": {
        "id": "I75QztOu14iI"
      },
      "execution_count": 8,
      "outputs": []
    },
    {
      "cell_type": "markdown",
      "source": [
        "# **Codificação**"
      ],
      "metadata": {
        "id": "sjpE6lYy7WeS"
      }
    },
    {
      "cell_type": "code",
      "source": [
        "from sklearn.preprocessing import LabelEncoder\n",
        "\n",
        "# Colunas com poucas categorias\n",
        "label_cols = ['categoria', 'subcategoria', 'marca', 'fabricante', 'categoria_pdv', 'premise']\n",
        "\n",
        "for col in label_cols:\n",
        "    if col in vendas_semanais.columns:\n",
        "        le = LabelEncoder()\n",
        "        vendas_semanais[col] = le.fit_transform(vendas_semanais[col].astype(str))"
      ],
      "metadata": {
        "id": "fBQQ5Cxp2Lzs"
      },
      "execution_count": 9,
      "outputs": []
    },
    {
      "cell_type": "markdown",
      "source": [
        "# **Variáveis de histórico**"
      ],
      "metadata": {
        "id": "IKCTm1757jml"
      }
    },
    {
      "cell_type": "code",
      "source": [
        "# Consistência temporal\n",
        "vendas_semanais = vendas_semanais.sort_values(by=['pdv', 'produto', 'Semana'])\n",
        "\n",
        "# Média móvel das últimas 4 semanas\n",
        "vendas_semanais['media_4'] = (\n",
        "    vendas_semanais\n",
        "    .groupby(['pdv', 'produto'])['quantity']\n",
        "    .transform(lambda x: x.shift(1).rolling(4).mean())\n",
        ")\n",
        "\n",
        "# Tendência (diferença entre semanas)\n",
        "vendas_semanais['tendencia'] = (\n",
        "    vendas_semanais\n",
        "    .groupby(['pdv', 'produto'])['quantity']\n",
        "    .transform(lambda x: x.diff())\n",
        ")\n",
        "\n",
        "# NaNs\n",
        "vendas_semanais.fillna(0, inplace=True)"
      ],
      "metadata": {
        "id": "nf_v4lXS2aEl"
      },
      "execution_count": 10,
      "outputs": []
    },
    {
      "cell_type": "markdown",
      "source": [
        "# **Treino e base de previsão**"
      ],
      "metadata": {
        "id": "AwM6qIGc73Qp"
      }
    },
    {
      "cell_type": "code",
      "source": [
        "# Treino: semanas 1 a 52\n",
        "treino = vendas_semanais[vendas_semanais['Semana'] <= 52]\n",
        "\n",
        "# Base de previsão: todos os pares pdv/produto para semanas 1 a 5\n",
        "base_pred = (\n",
        "    treino[['pdv', 'produto']]\n",
        "    .drop_duplicates()\n",
        "    .assign(Semana=1)\n",
        ")\n",
        "\n",
        "base_pred = pd.concat([\n",
        "    base_pred.assign(Semana=s) for s in range(1, 6)\n",
        "], ignore_index=True)\n",
        "\n",
        "# Atributos\n",
        "base_pred = base_pred.merge(produtos, on='produto', how='left')\n",
        "base_pred = base_pred.merge(pdvs, on='pdv', how='left')\n",
        "\n",
        "# Aplicar mesma codificação\n",
        "for col in label_cols:\n",
        "    if col in base_pred.columns:\n",
        "        le = LabelEncoder()\n",
        "        base_pred[col] = le.fit_transform(base_pred[col].astype(str))"
      ],
      "metadata": {
        "id": "-M9wGxPu76q5"
      },
      "execution_count": 11,
      "outputs": []
    },
    {
      "cell_type": "markdown",
      "source": [
        "# **Treinamento de outros modelos**"
      ],
      "metadata": {
        "id": "wHprYwbo8sG3"
      }
    },
    {
      "cell_type": "code",
      "source": [
        "# Colunas para treino\n",
        "features = ['media_4', 'tendencia', 'categoria', 'subcategoria', 'marca', 'fabricante', 'categoria_pdv', 'premise']\n",
        "X = vendas_semanais[features]\n",
        "y = vendas_semanais['quantity']"
      ],
      "metadata": {
        "id": "rBgHDTs080fp"
      },
      "execution_count": 12,
      "outputs": []
    },
    {
      "cell_type": "code",
      "source": [
        "from sklearn.model_selection import train_test_split\n",
        "\n",
        "X_train, X_val, y_train, y_val = train_test_split(X, y, test_size=0.2, random_state=42)"
      ],
      "metadata": {
        "id": "PyrGaHUV85DD"
      },
      "execution_count": 13,
      "outputs": []
    },
    {
      "cell_type": "code",
      "source": [
        "!pip install catboost"
      ],
      "metadata": {
        "colab": {
          "base_uri": "https://localhost:8080/"
        },
        "collapsed": true,
        "id": "F8U6PXzP9UiE",
        "outputId": "e1b7bedf-572f-45c0-ef0a-eac3dee419dd"
      },
      "execution_count": 14,
      "outputs": [
        {
          "output_type": "stream",
          "name": "stdout",
          "text": [
            "Collecting catboost\n",
            "  Downloading catboost-1.2.8-cp312-cp312-manylinux2014_x86_64.whl.metadata (1.2 kB)\n",
            "Requirement already satisfied: graphviz in /usr/local/lib/python3.12/dist-packages (from catboost) (0.21)\n",
            "Requirement already satisfied: matplotlib in /usr/local/lib/python3.12/dist-packages (from catboost) (3.10.0)\n",
            "Requirement already satisfied: numpy<3.0,>=1.16.0 in /usr/local/lib/python3.12/dist-packages (from catboost) (2.0.2)\n",
            "Requirement already satisfied: pandas>=0.24 in /usr/local/lib/python3.12/dist-packages (from catboost) (2.2.2)\n",
            "Requirement already satisfied: scipy in /usr/local/lib/python3.12/dist-packages (from catboost) (1.16.1)\n",
            "Requirement already satisfied: plotly in /usr/local/lib/python3.12/dist-packages (from catboost) (5.24.1)\n",
            "Requirement already satisfied: six in /usr/local/lib/python3.12/dist-packages (from catboost) (1.17.0)\n",
            "Requirement already satisfied: python-dateutil>=2.8.2 in /usr/local/lib/python3.12/dist-packages (from pandas>=0.24->catboost) (2.9.0.post0)\n",
            "Requirement already satisfied: pytz>=2020.1 in /usr/local/lib/python3.12/dist-packages (from pandas>=0.24->catboost) (2025.2)\n",
            "Requirement already satisfied: tzdata>=2022.7 in /usr/local/lib/python3.12/dist-packages (from pandas>=0.24->catboost) (2025.2)\n",
            "Requirement already satisfied: contourpy>=1.0.1 in /usr/local/lib/python3.12/dist-packages (from matplotlib->catboost) (1.3.3)\n",
            "Requirement already satisfied: cycler>=0.10 in /usr/local/lib/python3.12/dist-packages (from matplotlib->catboost) (0.12.1)\n",
            "Requirement already satisfied: fonttools>=4.22.0 in /usr/local/lib/python3.12/dist-packages (from matplotlib->catboost) (4.59.2)\n",
            "Requirement already satisfied: kiwisolver>=1.3.1 in /usr/local/lib/python3.12/dist-packages (from matplotlib->catboost) (1.4.9)\n",
            "Requirement already satisfied: packaging>=20.0 in /usr/local/lib/python3.12/dist-packages (from matplotlib->catboost) (25.0)\n",
            "Requirement already satisfied: pillow>=8 in /usr/local/lib/python3.12/dist-packages (from matplotlib->catboost) (11.3.0)\n",
            "Requirement already satisfied: pyparsing>=2.3.1 in /usr/local/lib/python3.12/dist-packages (from matplotlib->catboost) (3.2.3)\n",
            "Requirement already satisfied: tenacity>=6.2.0 in /usr/local/lib/python3.12/dist-packages (from plotly->catboost) (8.5.0)\n",
            "Downloading catboost-1.2.8-cp312-cp312-manylinux2014_x86_64.whl (99.2 MB)\n",
            "\u001b[2K   \u001b[90m━━━━━━━━━━━━━━━━━━━━━━━━━━━━━━━━━━━━━━━━\u001b[0m \u001b[32m99.2/99.2 MB\u001b[0m \u001b[31m10.4 MB/s\u001b[0m eta \u001b[36m0:00:00\u001b[0m\n",
            "\u001b[?25hInstalling collected packages: catboost\n",
            "Successfully installed catboost-1.2.8\n"
          ]
        }
      ]
    },
    {
      "cell_type": "code",
      "source": [
        "from catboost import CatBoostRegressor"
      ],
      "metadata": {
        "id": "FDtACvip9fS5"
      },
      "execution_count": 15,
      "outputs": []
    },
    {
      "cell_type": "code",
      "source": [
        "from sklearn.ensemble import RandomForestRegressor\n",
        "from sklearn.linear_model import Ridge\n",
        "from xgboost import XGBRegressor\n",
        "from lightgbm import LGBMRegressor\n",
        "from catboost import CatBoostRegressor\n",
        "from sklearn.metrics import mean_absolute_error\n",
        "\n",
        "modelos = {\n",
        "    'RandomForest': RandomForestRegressor(n_estimators=100, random_state=42),\n",
        "    'Ridge': Ridge(),\n",
        "    'XGBoost': XGBRegressor(n_estimators=100, random_state=42),\n",
        "    'LightGBM': LGBMRegressor(n_estimators=100, random_state=42),\n",
        "    'CatBoost': CatBoostRegressor(verbose=0, random_state=42)\n",
        "}\n",
        "\n",
        "resultados = {}\n",
        "\n",
        "for nome, modelo in modelos.items():\n",
        "    modelo.fit(X_train, y_train)\n",
        "    pred = modelo.predict(X_val)\n",
        "    mae = mean_absolute_error(y_val, pred)\n",
        "    resultados[nome] = mae"
      ],
      "metadata": {
        "colab": {
          "base_uri": "https://localhost:8080/"
        },
        "id": "L87Emliy9CyW",
        "outputId": "c2a52d04-ac49-4152-9ca3-86a398610bc8"
      },
      "execution_count": 16,
      "outputs": [
        {
          "output_type": "stream",
          "name": "stdout",
          "text": [
            "[LightGBM] [Info] Auto-choosing col-wise multi-threading, the overhead of testing was 0.697383 seconds.\n",
            "You can set `force_col_wise=true` to remove the overhead.\n",
            "[LightGBM] [Info] Total Bins 996\n",
            "[LightGBM] [Info] Number of data points in the train set: 4997525, number of used features: 8\n",
            "[LightGBM] [Info] Start training from score 8.529178\n"
          ]
        }
      ]
    },
    {
      "cell_type": "markdown",
      "source": [
        "# **Comparação dos resultados**"
      ],
      "metadata": {
        "id": "XPu22frIKhjO"
      }
    },
    {
      "cell_type": "code",
      "source": [
        "for nome, erro in sorted(resultados.items(), key=lambda x: x[1]):\n",
        "    print(f'{nome}: MAE = {erro:.2f}')"
      ],
      "metadata": {
        "colab": {
          "base_uri": "https://localhost:8080/"
        },
        "id": "m6pc0HsQKp-j",
        "outputId": "210a4ec6-427e-4261-ac52-e84601ee8bf9"
      },
      "execution_count": 17,
      "outputs": [
        {
          "output_type": "stream",
          "name": "stdout",
          "text": [
            "RandomForest: MAE = 6.49\n",
            "LightGBM: MAE = 7.05\n",
            "CatBoost: MAE = 7.10\n",
            "XGBoost: MAE = 7.13\n",
            "Ridge: MAE = 12.13\n"
          ]
        }
      ]
    },
    {
      "cell_type": "markdown",
      "source": [
        "# **Gerar media_4 e tendencia para base_pred**"
      ],
      "metadata": {
        "id": "1LvJyWpaqowN"
      }
    },
    {
      "cell_type": "code",
      "source": [
        "# Histórico com base_pred\n",
        "base_pred = base_pred.merge(\n",
        "    vendas_semanais[['pdv', 'produto', 'Semana', 'media_4', 'tendencia']],\n",
        "    on=['pdv', 'produto', 'Semana'],\n",
        "    how='left'\n",
        ")\n",
        "\n",
        "# NaNs (caso não haja histórico suficiente)\n",
        "base_pred[['media_4', 'tendencia']] = base_pred[['media_4', 'tendencia']].fillna(0)"
      ],
      "metadata": {
        "id": "ChoC0tyBqGmj"
      },
      "execution_count": 19,
      "outputs": []
    },
    {
      "cell_type": "markdown",
      "source": [
        "# **Confirmar que as features estão completas**"
      ],
      "metadata": {
        "id": "6Wr23OHc7W29"
      }
    },
    {
      "cell_type": "code",
      "source": [
        "print(base_pred[features].isnull().sum())"
      ],
      "metadata": {
        "colab": {
          "base_uri": "https://localhost:8080/"
        },
        "id": "DhN7lTRY7ZIx",
        "outputId": "51973cad-2b79-453c-f350-3cbd2c0765e3"
      },
      "execution_count": 20,
      "outputs": [
        {
          "output_type": "stream",
          "name": "stdout",
          "text": [
            "media_4          0\n",
            "tendencia        0\n",
            "categoria        0\n",
            "subcategoria     0\n",
            "marca            0\n",
            "fabricante       0\n",
            "categoria_pdv    0\n",
            "premise          0\n",
            "dtype: int64\n"
          ]
        }
      ]
    },
    {
      "cell_type": "code",
      "source": [
        "base_pred['quantidade'] = modelos['RandomForest'].predict(base_pred[features]).round().astype(int)"
      ],
      "metadata": {
        "id": "--r1EuTV7thW"
      },
      "execution_count": 21,
      "outputs": []
    }
  ]
}